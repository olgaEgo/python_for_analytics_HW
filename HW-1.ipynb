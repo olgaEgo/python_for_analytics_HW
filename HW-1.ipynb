{
 "cells": [
  {
   "cell_type": "code",
   "execution_count": null,
   "id": "a9e7f103",
   "metadata": {},
   "outputs": [],
   "source": []
  },
  {
   "cell_type": "markdown",
   "id": "2169dd2e",
   "metadata": {},
   "source": [
    "## 2. На складе лежат разные фрукты в разном количестве. Нужно написать функцию, которая на вход принимает любое количество названий фруктов и их количество, а возвращает общее количество фруктов на складе "
   ]
  },
  {
   "cell_type": "code",
   "execution_count": 173,
   "id": "81edd286",
   "metadata": {},
   "outputs": [
    {
     "data": {
      "text/plain": [
       "190"
      ]
     },
     "execution_count": 173,
     "metadata": {},
     "output_type": "execute_result"
    }
   ],
   "source": [
    "def total_fruits(**kwargs):\n",
    "    return sum(kwargs.values())\n",
    "    \n",
    "total_fruits(apples=100, oranges=50, lemons=40)\n"
   ]
  },
  {
   "cell_type": "markdown",
   "id": "9c34b543",
   "metadata": {},
   "source": [
    "## 3. Дан список с затратами на рекламу. Но в данных есть ошибки, некоторые затраты имеют отрицательную величину. Удалите такие значения из списка и посчитайте суммарные затраты\n",
    "[100, 125, -90, 345, 655, -1, 0, 200]\n",
    "\n",
    "Используйте list comprehensions"
   ]
  },
  {
   "cell_type": "code",
   "execution_count": 46,
   "id": "13fa632f",
   "metadata": {},
   "outputs": [
    {
     "data": {
      "text/plain": [
       "160"
      ]
     },
     "execution_count": 46,
     "metadata": {},
     "output_type": "execute_result"
    }
   ],
   "source": [
    "sum(storage.values())"
   ]
  },
  {
   "cell_type": "code",
   "execution_count": 80,
   "id": "29e12842",
   "metadata": {},
   "outputs": [
    {
     "data": {
      "text/plain": [
       "[100, 125, 345, 655, 0, 200]"
      ]
     },
     "execution_count": 80,
     "metadata": {},
     "output_type": "execute_result"
    }
   ],
   "source": [
    "expenses = [100, 125, -90, 345, 655, -1, 0, 200]\n",
    "final_exp = [i for i in expenses if i >= 0]\n",
    "final_exp"
   ]
  },
  {
   "cell_type": "code",
   "execution_count": 81,
   "id": "fc0a94f3",
   "metadata": {},
   "outputs": [
    {
     "data": {
      "text/plain": [
       "1425"
      ]
     },
     "execution_count": 81,
     "metadata": {},
     "output_type": "execute_result"
    }
   ],
   "source": [
    "sum([i for i in expenses if i >= 0])"
   ]
  },
  {
   "cell_type": "code",
   "execution_count": 64,
   "id": "a1432cd2",
   "metadata": {},
   "outputs": [
    {
     "data": {
      "text/plain": [
       "[100, 125, 345, 655, 200]"
      ]
     },
     "execution_count": 64,
     "metadata": {},
     "output_type": "execute_result"
    }
   ],
   "source": [
    "total = list(filter(lambda cost: cost > 0, expenses))\n",
    "total"
   ]
  },
  {
   "cell_type": "code",
   "execution_count": 82,
   "id": "76d8bc2a",
   "metadata": {},
   "outputs": [
    {
     "data": {
      "text/plain": [
       "[100, 125, 345, 655, 0, 200]"
      ]
     },
     "execution_count": 82,
     "metadata": {},
     "output_type": "execute_result"
    }
   ],
   "source": [
    "final_exp = list(filter(lambda cost: cost >= 0, expenses))\n",
    "final_exp"
   ]
  },
  {
   "cell_type": "code",
   "execution_count": 63,
   "id": "86fc02a0",
   "metadata": {},
   "outputs": [
    {
     "data": {
      "text/plain": [
       "[100, 125, 345, 655, 200]"
      ]
     },
     "execution_count": 63,
     "metadata": {},
     "output_type": "execute_result"
    }
   ],
   "source": [
    "total = [i for i in tot]\n",
    "total"
   ]
  },
  {
   "cell_type": "code",
   "execution_count": 83,
   "id": "495bdff6",
   "metadata": {},
   "outputs": [
    {
     "data": {
      "text/plain": [
       "1425"
      ]
     },
     "execution_count": 83,
     "metadata": {},
     "output_type": "execute_result"
    }
   ],
   "source": [
    "sum(list(filter(lambda cost: cost >= 0, expenses)))"
   ]
  },
  {
   "cell_type": "code",
   "execution_count": 77,
   "id": "216c2be6",
   "metadata": {},
   "outputs": [
    {
     "data": {
      "text/plain": [
       "1425"
      ]
     },
     "execution_count": 77,
     "metadata": {},
     "output_type": "execute_result"
    }
   ],
   "source": [
    "sum(total)"
   ]
  },
  {
   "cell_type": "markdown",
   "id": "1bae2a53",
   "metadata": {},
   "source": [
    "## 4. Даны два списка.\n",
    "Дата покупки\n",
    "['2021-09-14', '2021-12-15', '2021-09-08', '2021-12-05', '2021-10-09', '2021-09-30', '2021-12-22', '2021-11-29', '2021-12-24', '2021-11-26', '2021-10-27', '2021-12-18', '2021-11-09', '2021-11-23', '2021-09-27', '2021-10-02', '2021-12-27', '2021-09-20', '2021-12-13', '2021-11-01', '2021-11-09', '2021-12-06', '2021-12-08', '2021-10-09', '2021-10-31', '2021-09-30', '2021-11-09', '2021-12-13', '2021-10-26', '2021-12-09']\n",
    "\n",
    "Суммы покупок по датам\n",
    "[1270, 8413, 9028, 3703, 5739, 4095, 295, 4944, 5723, 3701, 4471, 651, 7037, 4274, 6275, 4988, 6930, 2971, 6592, 2004, 2822, 519, 3406, 2732, 5015, 2008, 316, 6333, 5700, 2887] "
   ]
  },
  {
   "cell_type": "code",
   "execution_count": 167,
   "id": "da1c9ecd",
   "metadata": {},
   "outputs": [
    {
     "name": "stdout",
     "output_type": "stream",
     "text": [
      "30 30\n"
     ]
    }
   ],
   "source": [
    "date_of_purchase = ['2021-09-14', '2021-12-15', '2021-09-08', '2021-12-05', '2021-10-09', \n",
    "                    '2021-09-30', '2021-12-22', '2021-11-29', '2021-12-24', '2021-11-26', \n",
    "                    '2021-10-27', '2021-12-18', '2021-11-09', '2021-11-23', '2021-09-27', \n",
    "                    '2021-10-02', '2021-12-27', '2021-09-20', '2021-12-13', '2021-11-01',\n",
    "                    '2021-11-09', '2021-12-06', '2021-12-08', '2021-10-09', '2021-10-31', \n",
    "                    '2021-09-30', '2021-11-09', '2021-12-13', '2021-10-26', '2021-12-09']\n",
    "sum_of_purchase = [1270, 8413, 9028, 3703, 5739, 4095, 295, 4944, 5723, 3701, 4471, 651, 7037,\n",
    "                   4274, 6275, 4988, 6930, 2971, 6592, 2004, 2822, 519, 3406, 2732, 5015, 2008,\n",
    "                   316, 6333, 5700, 2887]\n",
    "print(len(date_of_purchase), len(sum_of_purchase))"
   ]
  },
  {
   "cell_type": "markdown",
   "id": "3476c2c1",
   "metadata": {},
   "source": [
    "### 4.1 Найдите, какая выручка у компании в ноябре\n",
    "Используйте list comprehensions"
   ]
  },
  {
   "cell_type": "code",
   "execution_count": 198,
   "id": "cf1b6d41",
   "metadata": {},
   "outputs": [
    {
     "name": "stdout",
     "output_type": "stream",
     "text": [
      "Выручка у компании в ноябре составила 25098\n"
     ]
    }
   ],
   "source": [
    "total_november = sum(list([sum_of_purchase[i] for i in range(len(sum_of_purchase)) \n",
    "          if date_of_purchase[i][5:7] == '11']))\n",
    "print(f'Выручка у компании в ноябре составила {total_november}')"
   ]
  },
  {
   "cell_type": "code",
   "execution_count": 195,
   "id": "74d751a4",
   "metadata": {},
   "outputs": [
    {
     "data": {
      "text/plain": [
       "25098"
      ]
     },
     "execution_count": 195,
     "metadata": {},
     "output_type": "execute_result"
    }
   ],
   "source": [
    "# немного другой вариант\n",
    "sum(list([sum_of_purchase[i] for i in range(len(sum_of_purchase)) \n",
    "           if '-11-' in date_of_purchase[i]]))"
   ]
  },
  {
   "cell_type": "code",
   "execution_count": 197,
   "id": "1d30e526",
   "metadata": {},
   "outputs": [
    {
     "data": {
      "text/plain": [
       "25098"
      ]
     },
     "execution_count": 197,
     "metadata": {},
     "output_type": "execute_result"
    }
   ],
   "source": [
    "# проверяю себя циклом\n",
    "total = 0\n",
    "for i in range(len(sum_of_purchase)): \n",
    "    if date_of_purchase[i][5:7] == '11':\n",
    "        total += sum_of_purchase[i]\n",
    "total"
   ]
  },
  {
   "cell_type": "markdown",
   "id": "7aa15547",
   "metadata": {},
   "source": [
    "### 4.2 Найдите выручку компании в зависимости от месяца\n",
    "Для этого напишите функцию, которая на вход принимает список с датами и список с выручкой, а на выходе словарь, где ключи - это месяцы, а значения - это выручка.\n",
    "Используйте аннотирование типов."
   ]
  },
  {
   "cell_type": "code",
   "execution_count": null,
   "id": "2576ccde",
   "metadata": {},
   "outputs": [],
   "source": [
    "if int(dates[i][5:7]) == m:"
   ]
  },
  {
   "cell_type": "code",
   "execution_count": 236,
   "id": "d415a7f4",
   "metadata": {},
   "outputs": [
    {
     "data": {
      "text/plain": [
       "{'Сентябрь': 25647, 'Октябрь': 28645, 'Ноябрь': 25098, 'Декабрь': 45452}"
      ]
     },
     "execution_count": 236,
     "metadata": {},
     "output_type": "execute_result"
    }
   ],
   "source": [
    "def sums_by_months(dates: list, sums: list) -> dict:\n",
    "    month_dict = {}\n",
    "    month_lst = ('Сентябрь', 'Октябрь', 'Ноябрь', 'Декабрь')\n",
    "    i = 0\n",
    "    for m in range(9, 13):\n",
    "        month_dict[month_lst[i]] = sum(list([sums[i] for i in range(len(sums)) \n",
    "            if int(dates[i][5:7]) == m]))\n",
    "        i += 1\n",
    "    return month_dict\n",
    "\n",
    "sums_by_months(date_of_purchase, sum_of_purchase)"
   ]
  },
  {
   "cell_type": "markdown",
   "id": "37406290",
   "metadata": {},
   "source": [
    "Проверка:"
   ]
  },
  {
   "cell_type": "code",
   "execution_count": 245,
   "id": "5cd717dc",
   "metadata": {},
   "outputs": [
    {
     "name": "stdout",
     "output_type": "stream",
     "text": [
      "September 25647\n"
     ]
    }
   ],
   "source": [
    "total = sum(list([sum_of_purchase[i] for i in range(len(sum_of_purchase)) \n",
    "           if '-09-' in date_of_purchase[i]]))\n",
    "print(f'September {total}')"
   ]
  },
  {
   "cell_type": "code",
   "execution_count": 248,
   "id": "5cd2c0bb",
   "metadata": {},
   "outputs": [
    {
     "name": "stdout",
     "output_type": "stream",
     "text": [
      "Oktober 28645\n"
     ]
    }
   ],
   "source": [
    "total = sum(list([sum_of_purchase[i] for i in range(len(sum_of_purchase)) \n",
    "           if '-10-' in date_of_purchase[i]]))\n",
    "print(f'Oktober {total}')"
   ]
  },
  {
   "cell_type": "code",
   "execution_count": 247,
   "id": "c5a1e262",
   "metadata": {},
   "outputs": [
    {
     "name": "stdout",
     "output_type": "stream",
     "text": [
      "November 25098\n"
     ]
    }
   ],
   "source": [
    "total = sum(list([sum_of_purchase[i] for i in range(len(sum_of_purchase)) \n",
    "           if '-11-' in date_of_purchase[i]]))\n",
    "print(f'November {total}')"
   ]
  },
  {
   "cell_type": "code",
   "execution_count": 249,
   "id": "cd8ee926",
   "metadata": {},
   "outputs": [
    {
     "name": "stdout",
     "output_type": "stream",
     "text": [
      "December 45452\n"
     ]
    }
   ],
   "source": [
    "total = sum(list([sum_of_purchase[i] for i in range(len(sum_of_purchase)) \n",
    "           if '-12-' in date_of_purchase[i]]))\n",
    "print(f'December {total}')"
   ]
  },
  {
   "cell_type": "markdown",
   "id": "d87c7391",
   "metadata": {},
   "source": [
    "<h5><b>Sums by months</b></h5>\n",
    "<table>\n",
    "    <tr>\n",
    "        <td>September</td>\n",
    "        <td>25647</td>\n",
    "    </tr>\n",
    "    <tr>\n",
    "        <td>October</td>\n",
    "        <td>28645</td>\n",
    "    </tr>\n",
    "    <tr>\n",
    "        <td>November</td>\n",
    "        <td>25098</td>\n",
    "    </tr>\n",
    "    <tr>\n",
    "        <td>December</td>\n",
    "        <td>45452</td>\n",
    "    </tr>\n",
    "</table>"
   ]
  }
 ],
 "metadata": {
  "kernelspec": {
   "display_name": "Python 3 (ipykernel)",
   "language": "python",
   "name": "python3"
  },
  "language_info": {
   "codemirror_mode": {
    "name": "ipython",
    "version": 3
   },
   "file_extension": ".py",
   "mimetype": "text/x-python",
   "name": "python",
   "nbconvert_exporter": "python",
   "pygments_lexer": "ipython3",
   "version": "3.9.13"
  }
 },
 "nbformat": 4,
 "nbformat_minor": 5
}
